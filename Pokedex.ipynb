{
  "nbformat": 4,
  "nbformat_minor": 0,
  "metadata": {
    "colab": {
      "provenance": [],
      "authorship_tag": "ABX9TyNE5ECY7cAuCBS9snMbijQd"
    },
    "kernelspec": {
      "name": "python3",
      "display_name": "Python 3"
    },
    "language_info": {
      "name": "python"
    }
  },
  "cells": [
    {
      "cell_type": "markdown",
      "source": [
        "# We select and load the model"
      ],
      "metadata": {
        "id": "CG8Qjo0VNY-7"
      }
    },
    {
      "cell_type": "code",
      "source": [
        "from transformers import pipeline\n",
        "from transformers import AutoImageProcessor, AutoModelForImageClassification\n",
        "from PIL import Image\n",
        "\n",
        "pokemon= \"Image of the Pokémon\"\n",
        "pipe = pipeline(\"image-classification\", model=\"skshmjn/Pokemon-classifier-gen9-1025\")\n",
        "pipe(\"https://huggingface.co/datasets/huggingface/documentation-images/resolve/main/hub/parrots.png\")\n",
        "\n",
        "\n",
        "processor = AutoImageProcessor.from_pretrained(\"skshmjn/Pokemon-classifier-gen9-1025\")\n",
        "model = AutoModelForImageClassification.from_pretrained(\"skshmjn/Pokemon-classifier-gen9-1025\")\n",
        "\n",
        "img = Image.open(pokemon).convert(\"RGB\")\n",
        "inputs = processor(images=img, return_tensors='pt').to(model.device)\n",
        "\n",
        "\n",
        "outputs = model(**inputs)\n",
        "predicted_id = outputs.logits.argmax(-1).item()\n",
        "predicted_pokemon = model.config.id2label[predicted_id]"
      ],
      "metadata": {
        "colab": {
          "base_uri": "https://localhost:8080/"
        },
        "id": "7kDRRkZqNXJj",
        "outputId": "bc0e7c5d-d04f-4405-b4fd-80444e02c8fa"
      },
      "execution_count": 42,
      "outputs": [
        {
          "output_type": "stream",
          "name": "stderr",
          "text": [
            "Device set to use cpu\n"
          ]
        }
      ]
    },
    {
      "cell_type": "markdown",
      "source": [
        "# **We use the PokeAPI to obtain relevant and up-to-date information about the Pokémon.**"
      ],
      "metadata": {
        "id": "SCmg_DS3SvJa"
      }
    },
    {
      "cell_type": "code",
      "source": [
        "import requests\n",
        "import polars as pl\n",
        "\n",
        "Api=requests.get(f\"https://pokeapi.co/api/v2/pokemon/{predicted_pokemon.lower()}\")\n",
        "data=Api.json()\n",
        "\n",
        "pokemon_info = pl.DataFrame({ \"ID\": data[\"id\"],\n",
        "    \"Altura (m)\": data[\"height\"] / 10,\n",
        "    \"Peso (kg)\": data[\"weight\"] / 10,\n",
        "    \"Tipos\": \", \".join([t[\"type\"][\"name\"] for t in data[\"types\"]]),\n",
        "    \"Habilidades\": \", \".join([a[\"ability\"][\"name\"] for a in data[\"abilities\"]]),\n",
        "    \"HP\": data[\"stats\"][0][\"base_stat\"],\n",
        "    \"Ataque\": data[\"stats\"][1][\"base_stat\"],\n",
        "    \"Defensa\": data[\"stats\"][2][\"base_stat\"],\n",
        "    \"Ataque Especial\": data[\"stats\"][3][\"base_stat\"],\n",
        "    \"Defensa Especial\": data[\"stats\"][4][\"base_stat\"],\n",
        "    \"Velocidad\": data[\"stats\"][5][\"base_stat\"]})\n",
        "\n",
        "\n",
        "\n",
        "print(f\"The pokemon is #{predicted_id+1}\\n{predicted_pokemon}\\n\\n{pokemon_info}\")"
      ],
      "metadata": {
        "colab": {
          "base_uri": "https://localhost:8080/"
        },
        "id": "68q2VpaITkCK",
        "outputId": "1686027d-c3ff-4c23-c7a8-9b98a7ecf281"
      },
      "execution_count": 43,
      "outputs": [
        {
          "output_type": "stream",
          "name": "stdout",
          "text": [
            "The pokemon is #115\n",
            "Kangaskhan\n",
            "\n",
            "shape: (1, 11)\n",
            "┌─────┬────────────┬───────────┬────────┬───┬─────────┬──────────┬──────────────────┬───────────┐\n",
            "│ ID  ┆ Altura (m) ┆ Peso (kg) ┆ Tipos  ┆ … ┆ Defensa ┆ Ataque   ┆ Defensa Especial ┆ Velocidad │\n",
            "│ --- ┆ ---        ┆ ---       ┆ ---    ┆   ┆ ---     ┆ Especial ┆ ---              ┆ ---       │\n",
            "│ i64 ┆ f64        ┆ f64       ┆ str    ┆   ┆ i64     ┆ ---      ┆ i64              ┆ i64       │\n",
            "│     ┆            ┆           ┆        ┆   ┆         ┆ i64      ┆                  ┆           │\n",
            "╞═════╪════════════╪═══════════╪════════╪═══╪═════════╪══════════╪══════════════════╪═══════════╡\n",
            "│ 115 ┆ 2.2        ┆ 80.0      ┆ normal ┆ … ┆ 80      ┆ 40       ┆ 80               ┆ 90        │\n",
            "└─────┴────────────┴───────────┴────────┴───┴─────────┴──────────┴──────────────────┴───────────┘\n"
          ]
        }
      ]
    }
  ]
}